{
 "cells": [
  {
   "cell_type": "code",
   "execution_count": null,
   "metadata": {},
   "outputs": [],
   "source": [
    "import os \n",
    "import h5py \n",
    "import numpy as np \n",
    "import pandas as pd\n",
    "from optutils import *\n",
    "from CONSTANT import * \n",
    "import datetime"
   ]
  },
  {
   "cell_type": "code",
   "execution_count": null,
   "metadata": {},
   "outputs": [],
   "source": [
    "def load_feature(dates = None, feature_name = 'BasicFeatures_TWAP', silence = True):\n",
    "    path = f'{data_root}Features/5min/'\n",
    "    if dates == None:\n",
    "        dates = [sorted(os.listdir(path))[-1]]\n",
    "    if (type(dates) == str) | (type(dates) == int):\n",
    "        dates = [int(dates)]\n",
    "    feature_tb = []\n",
    "    for date_int in dates:\n",
    "        date = str(date_int)\n",
    "        feature_tb_file = f'{data_root}Features/5min/{date}/{feature_name}.h5'\n",
    "        if not silence:\n",
    "            print(feature_tb_file)\n",
    "        f = h5py.File(feature_tb_file,'r')\n",
    "        data = np.array(f['data'])\n",
    "        index = np.array(f['timestamp'])/1000\n",
    "        columns = np.array(f['stock'])\n",
    "        columns = [str(s).zfill(6) for s in columns]\n",
    "        feature = pd.DataFrame(data,index=[date+ ' ' + str(int(s)).zfill(6)[0:2]+':'+str(int(s)).zfill(6)[2:4]+':'+str(int(s)).zfill(6)[4:6] for s in index],columns=columns)\n",
    "        feature_tb.append(feature)\n",
    "    feature_tb = pd.concat(feature_tb, axis = 0)\n",
    "    return feature_tb"
   ]
  }
 ],
 "metadata": {
  "language_info": {
   "name": "python"
  }
 },
 "nbformat": 4,
 "nbformat_minor": 2
}
